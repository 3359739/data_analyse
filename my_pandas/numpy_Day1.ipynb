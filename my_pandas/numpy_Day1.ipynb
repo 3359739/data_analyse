{
 "cells": [
  {
   "cell_type": "code",
   "execution_count": 8,
   "id": "dae5126b",
   "metadata": {
    "ExecuteTime": {
     "end_time": "2024-06-01T16:07:34.744391300Z",
     "start_time": "2024-06-01T16:07:34.584318200Z"
    }
   },
   "outputs": [
    {
     "name": "stdout",
     "output_type": "stream",
     "text": [
      "                  ip                  stime  status  \\\n",
      "0     106.11.153.226  [02/Dec/2019:22:40:18     200   \n",
      "1      42.156.254.60  [02/Dec/2019:22:40:23     201   \n",
      "2     106.11.159.254  [02/Dec/2019:22:40:27     200   \n",
      "3     106.11.157.254  [02/Dec/2019:22:40:28     200   \n",
      "4     42.156.137.109  [02/Dec/2019:22:40:30     201   \n",
      "...              ...                    ...     ...   \n",
      "6769  213.180.203.16  [07/Dec/2019:21:30:22     201   \n",
      "6770  213.180.203.16  [07/Dec/2019:21:30:23     404   \n",
      "6771    141.8.132.24  [07/Dec/2019:21:30:56     200   \n",
      "6772    58.23.18.239  [07/Dec/2019:21:30:58     200   \n",
      "6773    141.8.132.24  [07/Dec/2019:21:31:02     201   \n",
      "\n",
      "                                                 client  \n",
      "0                                           YisouSpider  \n",
      "1     Mozilla/5.0 (Windows NT 6.1; Win64; x64) Apple...  \n",
      "2                                           YisouSpider  \n",
      "3                                           YisouSpider  \n",
      "4     Mozilla/5.0 (Windows NT 6.1; Win64; x64) Apple...  \n",
      "...                                                 ...  \n",
      "6769  Mozilla/5.0 (compatible; YandexBot/3.0; +http:...  \n",
      "6770  Mozilla/5.0 (compatible; YandexBot/3.0; +http:...  \n",
      "6771  Mozilla/5.0 (compatible; YandexBot/3.0; +http:...  \n",
      "6772  Mozilla/5.0 (Windows NT 10.0; WOW64) AppleWebK...  \n",
      "6773  Mozilla/5.0 (compatible; YandexBot/3.0; +http:...  \n",
      "\n",
      "[50278 rows x 4 columns]\n"
     ]
    },
    {
     "data": {
      "text/plain": "<pyecharts.render.display.HTML at 0x18732e33fe0>",
      "text/html": "\n<script>\n    require.config({\n        paths: {\n            'echarts':'https://assets.pyecharts.org/assets/v5/echarts.min'\n        }\n    });\n</script>\n\n        <div id=\"83ec7ec750be4778bd53ad115c4da893\" style=\"width:900px; height:500px;\"></div>\n\n<script>\n        require(['echarts'], function(echarts) {\n                var chart_83ec7ec750be4778bd53ad115c4da893 = echarts.init(\n                    document.getElementById('83ec7ec750be4778bd53ad115c4da893'), 'white', {renderer: 'canvas'});\n                var option_83ec7ec750be4778bd53ad115c4da893 = {\n    \"animation\": true,\n    \"animationThreshold\": 2000,\n    \"animationDuration\": 1000,\n    \"animationEasing\": \"cubicOut\",\n    \"animationDelay\": 0,\n    \"animationDurationUpdate\": 300,\n    \"animationEasingUpdate\": \"cubicOut\",\n    \"animationDelayUpdate\": 0,\n    \"aria\": {\n        \"enabled\": false\n    },\n    \"color\": [\n        \"#5470c6\",\n        \"#91cc75\",\n        \"#fac858\",\n        \"#ee6666\",\n        \"#73c0de\",\n        \"#3ba272\",\n        \"#fc8452\",\n        \"#9a60b4\",\n        \"#ea7ccc\"\n    ],\n    \"series\": [\n        {\n            \"type\": \"bar\",\n            \"name\": \"\\u662f\\u5426Spider\",\n            \"legendHoverLink\": true,\n            \"data\": [\n                46641,\n                3637\n            ],\n            \"realtimeSort\": false,\n            \"showBackground\": false,\n            \"stackStrategy\": \"samesign\",\n            \"cursor\": \"pointer\",\n            \"barMinHeight\": 0,\n            \"barCategoryGap\": \"20%\",\n            \"barGap\": \"30%\",\n            \"large\": false,\n            \"largeThreshold\": 400,\n            \"seriesLayoutBy\": \"column\",\n            \"datasetIndex\": 0,\n            \"clip\": true,\n            \"zlevel\": 0,\n            \"z\": 2,\n            \"label\": {\n                \"show\": true,\n                \"margin\": 8\n            }\n        }\n    ],\n    \"legend\": [\n        {\n            \"data\": [\n                \"\\u662f\\u5426Spider\"\n            ],\n            \"selected\": {},\n            \"show\": true,\n            \"padding\": 5,\n            \"itemGap\": 10,\n            \"itemWidth\": 25,\n            \"itemHeight\": 14,\n            \"backgroundColor\": \"transparent\",\n            \"borderColor\": \"#ccc\",\n            \"borderRadius\": 0,\n            \"pageButtonItemGap\": 5,\n            \"pageButtonPosition\": \"end\",\n            \"pageFormatter\": \"{current}/{total}\",\n            \"pageIconColor\": \"#2f4554\",\n            \"pageIconInactiveColor\": \"#aaa\",\n            \"pageIconSize\": 15,\n            \"animationDurationUpdate\": 800,\n            \"selector\": false,\n            \"selectorPosition\": \"auto\",\n            \"selectorItemGap\": 7,\n            \"selectorButtonGap\": 10\n        }\n    ],\n    \"tooltip\": {\n        \"show\": true,\n        \"trigger\": \"item\",\n        \"triggerOn\": \"mousemove|click\",\n        \"axisPointer\": {\n            \"type\": \"line\"\n        },\n        \"showContent\": true,\n        \"alwaysShowContent\": false,\n        \"showDelay\": 0,\n        \"hideDelay\": 100,\n        \"enterable\": false,\n        \"confine\": false,\n        \"appendToBody\": false,\n        \"transitionDuration\": 0.4,\n        \"textStyle\": {\n            \"fontSize\": 14\n        },\n        \"borderWidth\": 0,\n        \"padding\": 5,\n        \"order\": \"seriesAsc\"\n    },\n    \"xAxis\": [\n        {\n            \"show\": true,\n            \"scale\": false,\n            \"nameLocation\": \"end\",\n            \"nameGap\": 15,\n            \"gridIndex\": 0,\n            \"inverse\": false,\n            \"offset\": 0,\n            \"splitNumber\": 5,\n            \"minInterval\": 0,\n            \"splitLine\": {\n                \"show\": true,\n                \"lineStyle\": {\n                    \"show\": true,\n                    \"width\": 1,\n                    \"opacity\": 1,\n                    \"curveness\": 0,\n                    \"type\": \"solid\"\n                }\n            },\n            \"data\": [\n                \"False\",\n                \"True\"\n            ]\n        }\n    ],\n    \"yAxis\": [\n        {\n            \"show\": true,\n            \"scale\": false,\n            \"nameLocation\": \"end\",\n            \"nameGap\": 15,\n            \"gridIndex\": 0,\n            \"inverse\": false,\n            \"offset\": 0,\n            \"splitNumber\": 5,\n            \"minInterval\": 0,\n            \"splitLine\": {\n                \"show\": true,\n                \"lineStyle\": {\n                    \"show\": true,\n                    \"width\": 1,\n                    \"opacity\": 1,\n                    \"curveness\": 0,\n                    \"type\": \"solid\"\n                }\n            }\n        }\n    ],\n    \"title\": [\n        {\n            \"show\": true,\n            \"text\": \"\\u722c\\u866b\\u8bbf\\u95ee\\u91cf\\u5360\\u6bd4\",\n            \"target\": \"blank\",\n            \"subtarget\": \"blank\",\n            \"padding\": 5,\n            \"itemGap\": 10,\n            \"textAlign\": \"auto\",\n            \"textVerticalAlign\": \"auto\",\n            \"triggerEvent\": false\n        }\n    ]\n};\n                chart_83ec7ec750be4778bd53ad115c4da893.setOption(option_83ec7ec750be4778bd53ad115c4da893);\n        });\n    </script>\n"
     },
     "execution_count": 8,
     "metadata": {},
     "output_type": "execute_result"
    }
   ],
   "source": [
    "from pyecharts.charts import Bar\n",
    "from pyecharts import options as opts\n",
    "import pandas as pd\n",
    "import os\n",
    "data_dir = \"./data_table/log\"  # 定义日志文件所在的目录\n",
    "list_file = []  # 用于存储每个日志文件读取的数据\n",
    "# 遍历目录中的所有文件\n",
    "for i in os.listdir(data_dir):\n",
    "    # 读取每个文件的内容并添加到列表中\n",
    "    list_file.append(pd.read_csv(f\"{data_dir}/{i}\", sep=\" \", header=None, on_bad_lines='skip'))\n",
    "# 合并所有读取的数据到一个DataFrame中\n",
    "new_table = pd.concat(list_file).copy()\n",
    "# 打印合并后的数据表\n",
    "new_table = new_table[[0, 3, 6, 9]].copy()\n",
    "# 重新设置表头\n",
    "new_table.columns = [\"ip\", \"stime\", \"status\", \"client\"]\n",
    "print(new_table)\n",
    "# print(new_table.head())\n",
    "# 查看\n",
    "new_table[\"is_spider\"] = new_table[\"client\"].str.lower().str.contains(\"spider\")\n",
    "df_spider = new_table[\"is_spider\"].value_counts()\n",
    "bar = (\n",
    "    Bar()\n",
    "    .add_xaxis([str(x) for x in df_spider.index])\n",
    "    .add_yaxis(\"是否Spider\", df_spider.values.tolist())\n",
    "    .set_global_opts(title_opts=opts.TitleOpts(title=\"爬虫访问量占比\"))\n",
    ")\n",
    "bar.render_notebook()"
   ]
  }
 ],
 "metadata": {
  "kernelspec": {
   "display_name": "Python 3 (ipykernel)",
   "language": "python",
   "name": "python3"
  },
  "language_info": {
   "codemirror_mode": {
    "name": "ipython",
    "version": 3
   },
   "file_extension": ".py",
   "mimetype": "text/x-python",
   "name": "python",
   "nbconvert_exporter": "python",
   "pygments_lexer": "ipython3",
   "version": "3.12.3"
  }
 },
 "nbformat": 4,
 "nbformat_minor": 5
}
