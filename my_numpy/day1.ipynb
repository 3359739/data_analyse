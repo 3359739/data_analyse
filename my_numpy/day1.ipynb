{
 "cells": [
  {
   "cell_type": "code",
   "execution_count": 4,
   "id": "9c0f9a3b",
   "metadata": {
    "ExecuteTime": {
     "end_time": "2024-05-31T06:21:54.630294500Z",
     "start_time": "2024-05-31T06:21:54.513961700Z"
    }
   },
   "outputs": [
    {
     "data": {
      "text/plain": "'1.26.4'"
     },
     "execution_count": 4,
     "metadata": {},
     "output_type": "execute_result"
    }
   ],
   "source": [
    "import numpy as np\n",
    "np.__version__"
   ]
  },
  {
   "cell_type": "code",
   "execution_count": 5,
   "id": "c6b6d590",
   "metadata": {
    "ExecuteTime": {
     "end_time": "2024-05-31T06:21:54.638139700Z",
     "start_time": "2024-05-31T06:21:54.631298200Z"
    }
   },
   "outputs": [
    {
     "data": {
      "text/plain": "array([ 0,  2, 12, 36, 80])"
     },
     "execution_count": 5,
     "metadata": {},
     "output_type": "execute_result"
    }
   ],
   "source": [
    "po1=np.arange(5)**2\n",
    "po2=np.arange(5)**3\n",
    "po2+po1"
   ]
  },
  {
   "cell_type": "code",
   "execution_count": 6,
   "id": "21c5bde9",
   "metadata": {
    "ExecuteTime": {
     "end_time": "2024-05-31T06:21:54.639648900Z",
     "start_time": "2024-05-31T06:21:54.635409800Z"
    }
   },
   "outputs": [
    {
     "data": {
      "text/plain": "numpy.ndarray"
     },
     "execution_count": 6,
     "metadata": {},
     "output_type": "execute_result"
    }
   ],
   "source": [
    "# 创建numpy数组\n",
    "x=np.array([1,2,3,4,5,6,7])\n",
    "type(x)"
   ]
  },
  {
   "cell_type": "code",
   "execution_count": 51,
   "outputs": [
    {
     "data": {
      "text/plain": "(2, 5)"
     },
     "execution_count": 51,
     "metadata": {},
     "output_type": "execute_result"
    }
   ],
   "source": [
    "#创建一个维数组里面有5个随机数\n",
    "np.random.randn(5)\n",
    "# 创建一个5x3的随机矩阵\n",
    "np.random.randn(5,3)\n",
    "# 拆分\n",
    "w=np.arange(10).reshape(2,5)\n",
    "w.shape"
   ],
   "metadata": {
    "collapsed": false,
    "ExecuteTime": {
     "end_time": "2024-05-31T06:29:11.179449400Z",
     "start_time": "2024-05-31T06:29:11.173675700Z"
    }
   },
   "id": "67ef64b488517560"
  },
  {
   "cell_type": "code",
   "execution_count": 68,
   "outputs": [
    {
     "data": {
      "text/plain": "array([[0, 1, 2, 3, 4],\n       [5, 7, 7, 8, 9]])"
     },
     "execution_count": 68,
     "metadata": {},
     "output_type": "execute_result"
    }
   ],
   "source": [
    "list_my_small=np.arange(10)\n",
    "list_my_small[2]\n",
    "list_my=np.arange(10).reshape(2,5)\n",
    "list_my[1][1]+=1\n",
    "list_my"
   ],
   "metadata": {
    "collapsed": false,
    "ExecuteTime": {
     "end_time": "2024-05-31T06:33:39.980367200Z",
     "start_time": "2024-05-31T06:33:39.973940300Z"
    }
   },
   "id": "b6f34753d385497a"
  },
  {
   "cell_type": "code",
   "execution_count": 87,
   "outputs": [
    {
     "name": "stdout",
     "output_type": "stream",
     "text": [
      "[81 73 70 40 76 24 99 50 82 39]\n"
     ]
    },
    {
     "data": {
      "text/plain": "array([81, 82, 99])"
     },
     "execution_count": 87,
     "metadata": {},
     "output_type": "execute_result"
    }
   ],
   "source": [
    "#查看最大索引\n",
    "max_my=np.random.randint(10,100,10)\n",
    "print(max_my)\n",
    "# 返回的是最大值的索引意思是排序后的值从小到大\n",
    "max_my.argsort()\n",
    "# 返回最大值\n",
    "max_my[max_my.argsort()[-3:]]"
   ],
   "metadata": {
    "collapsed": false,
    "ExecuteTime": {
     "end_time": "2024-05-31T06:40:24.384987900Z",
     "start_time": "2024-05-31T06:40:24.378366300Z"
    }
   },
   "id": "4aa6f37161e447af"
  },
  {
   "cell_type": "code",
   "execution_count": 89,
   "outputs": [
    {
     "ename": "ModuleNotFoundError",
     "evalue": "No module named 'pandas'",
     "output_type": "error",
     "traceback": [
      "\u001B[1;31m---------------------------------------------------------------------------\u001B[0m",
      "\u001B[1;31mModuleNotFoundError\u001B[0m                       Traceback (most recent call last)",
      "Cell \u001B[1;32mIn[89], line 1\u001B[0m\n\u001B[1;32m----> 1\u001B[0m \u001B[38;5;28;01mimport\u001B[39;00m \u001B[38;5;21;01mpandas\u001B[39;00m \u001B[38;5;28;01mas\u001B[39;00m \u001B[38;5;21;01mpd\u001B[39;00m\n\u001B[0;32m      2\u001B[0m substance\u001B[38;5;241m=\u001B[39mpd\u001B[38;5;241m.\u001B[39mread_csv(\u001B[38;5;124m'\u001B[39m\u001B[38;5;124mbeijing_tianqi_2017-2019.csv\u001B[39m\u001B[38;5;124m'\u001B[39m)\n\u001B[0;32m      3\u001B[0m substance\n",
      "\u001B[1;31mModuleNotFoundError\u001B[0m: No module named 'pandas'"
     ]
    }
   ],
   "source": [],
   "metadata": {
    "collapsed": false,
    "ExecuteTime": {
     "end_time": "2024-05-31T10:16:38.213337100Z",
     "start_time": "2024-05-31T10:16:38.198920300Z"
    }
   },
   "id": "29314500583f3a8a"
  },
  {
   "cell_type": "code",
   "execution_count": null,
   "outputs": [],
   "source": [],
   "metadata": {
    "collapsed": false
   },
   "id": "20fb88b77c5d040"
  }
 ],
 "metadata": {
  "kernelspec": {
   "display_name": "Python 3 (ipykernel)",
   "language": "python",
   "name": "python3"
  },
  "language_info": {
   "codemirror_mode": {
    "name": "ipython",
    "version": 3
   },
   "file_extension": ".py",
   "mimetype": "text/x-python",
   "name": "python",
   "nbconvert_exporter": "python",
   "pygments_lexer": "ipython3",
   "version": "3.12.3"
  }
 },
 "nbformat": 4,
 "nbformat_minor": 5
}
