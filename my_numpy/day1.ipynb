{
 "cells": [
  {
   "cell_type": "code",
   "execution_count": 2,
   "id": "9c0f9a3b",
   "metadata": {
    "ExecuteTime": {
     "end_time": "2024-06-12T09:08:33.894354100Z",
     "start_time": "2024-06-12T09:08:33.600842400Z"
    }
   },
   "outputs": [
    {
     "data": {
      "text/plain": "'1.26.4'"
     },
     "execution_count": 2,
     "metadata": {},
     "output_type": "execute_result"
    }
   ],
   "source": [
    "import numpy as np\n",
    "np.__version__"
   ]
  },
  {
   "cell_type": "code",
   "execution_count": 9,
   "id": "c6b6d590",
   "metadata": {
    "ExecuteTime": {
     "end_time": "2024-06-12T09:14:30.680095400Z",
     "start_time": "2024-06-12T09:14:30.669981100Z"
    }
   },
   "outputs": [
    {
     "data": {
      "text/plain": "1"
     },
     "execution_count": 9,
     "metadata": {},
     "output_type": "execute_result"
    }
   ],
   "source": [
    "po1=np.arange(5)**2\n",
    "po2=np.arange(5)**3\n",
    "w=po2+po1\n",
    "w."
   ]
  },
  {
   "cell_type": "code",
   "execution_count": 4,
   "id": "21c5bde9",
   "metadata": {
    "ExecuteTime": {
     "end_time": "2024-06-12T09:08:33.918101Z",
     "start_time": "2024-06-12T09:08:33.906090200Z"
    }
   },
   "outputs": [
    {
     "data": {
      "text/plain": "numpy.ndarray"
     },
     "execution_count": 4,
     "metadata": {},
     "output_type": "execute_result"
    }
   ],
   "source": [
    "# 创建numpy数组\n",
    "x=np.array([1,2,3,4,5,6,7])\n",
    "type(x)\n"
   ]
  },
  {
   "cell_type": "code",
   "execution_count": 16,
   "outputs": [
    {
     "ename": "AttributeError",
     "evalue": "'numpy.ndarray' object has no attribute 'I'",
     "output_type": "error",
     "traceback": [
      "\u001B[1;31m---------------------------------------------------------------------------\u001B[0m",
      "\u001B[1;31mAttributeError\u001B[0m                            Traceback (most recent call last)",
      "Cell \u001B[1;32mIn[16], line 7\u001B[0m\n\u001B[0;32m      5\u001B[0m \u001B[38;5;66;03m# 拆分\u001B[39;00m\n\u001B[0;32m      6\u001B[0m w\u001B[38;5;241m=\u001B[39mnp\u001B[38;5;241m.\u001B[39marange(\u001B[38;5;241m10\u001B[39m)\u001B[38;5;241m.\u001B[39mreshape(\u001B[38;5;241m2\u001B[39m,\u001B[38;5;241m5\u001B[39m)\n\u001B[1;32m----> 7\u001B[0m \u001B[43mw\u001B[49m\u001B[38;5;241;43m.\u001B[39;49m\u001B[43mI\u001B[49m\n",
      "\u001B[1;31mAttributeError\u001B[0m: 'numpy.ndarray' object has no attribute 'I'"
     ]
    }
   ],
   "source": [
    "#创建一个维数组里面有5个随机数\n",
    "np.random.randn(5)\n",
    "# 创建一个5x3的随机矩阵\n",
    "np.random.randn(5,3)\n",
    "# 拆分\n",
    "w=np.arange(10).reshape(2,5)\n",
    "w.shape"
   ],
   "metadata": {
    "collapsed": false,
    "ExecuteTime": {
     "end_time": "2024-06-12T09:16:07.669292Z",
     "start_time": "2024-06-12T09:16:07.646516Z"
    }
   },
   "id": "67ef64b488517560"
  },
  {
   "cell_type": "code",
   "execution_count": 6,
   "outputs": [
    {
     "data": {
      "text/plain": "array([[0, 1, 2, 3, 4],\n       [5, 7, 7, 8, 9]])"
     },
     "execution_count": 6,
     "metadata": {},
     "output_type": "execute_result"
    }
   ],
   "source": [
    "list_my_small=np.arange(10)\n",
    "list_my_small[2]\n",
    "list_my=np.arange(10).reshape(2,5)\n",
    "list_my[1][1]+=1\n",
    "list_my"
   ],
   "metadata": {
    "collapsed": false,
    "ExecuteTime": {
     "end_time": "2024-06-12T09:08:33.944328100Z",
     "start_time": "2024-06-12T09:08:33.919103600Z"
    }
   },
   "id": "b6f34753d385497a"
  },
  {
   "cell_type": "code",
   "execution_count": 7,
   "outputs": [
    {
     "name": "stdout",
     "output_type": "stream",
     "text": [
      "[47 97 92 38 68 30 70 65 43 84]\n"
     ]
    },
    {
     "data": {
      "text/plain": "array([84, 92, 97])"
     },
     "execution_count": 7,
     "metadata": {},
     "output_type": "execute_result"
    }
   ],
   "source": [
    "#查看最大索引\n",
    "max_my=np.random.randint(10,100,10)\n",
    "print(max_my)\n",
    "# 返回的是最大值的索引意思是排序后的值从小到大\n",
    "max_my.argsort()\n",
    "# 返回最大值\n",
    "max_my[max_my.argsort()[-3:]]"
   ],
   "metadata": {
    "collapsed": false,
    "ExecuteTime": {
     "end_time": "2024-06-12T09:08:34.016087700Z",
     "start_time": "2024-06-12T09:08:33.923908100Z"
    }
   },
   "id": "4aa6f37161e447af"
  },
  {
   "cell_type": "code",
   "execution_count": 7,
   "outputs": [],
   "source": [],
   "metadata": {
    "collapsed": false,
    "ExecuteTime": {
     "end_time": "2024-06-12T09:08:34.016087700Z",
     "start_time": "2024-06-12T09:08:33.933862200Z"
    }
   },
   "id": "29314500583f3a8a"
  },
  {
   "cell_type": "code",
   "execution_count": 7,
   "outputs": [],
   "source": [],
   "metadata": {
    "collapsed": false,
    "ExecuteTime": {
     "end_time": "2024-06-12T09:08:34.017090100Z",
     "start_time": "2024-06-12T09:08:33.938315900Z"
    }
   },
   "id": "20fb88b77c5d040"
  }
 ],
 "metadata": {
  "kernelspec": {
   "display_name": "Python 3 (ipykernel)",
   "language": "python",
   "name": "python3"
  },
  "language_info": {
   "codemirror_mode": {
    "name": "ipython",
    "version": 3
   },
   "file_extension": ".py",
   "mimetype": "text/x-python",
   "name": "python",
   "nbconvert_exporter": "python",
   "pygments_lexer": "ipython3",
   "version": "3.12.3"
  }
 },
 "nbformat": 4,
 "nbformat_minor": 5
}
