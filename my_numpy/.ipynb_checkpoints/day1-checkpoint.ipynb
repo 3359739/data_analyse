{
 "cells": [
  {
   "cell_type": "code",
   "execution_count": null,
   "outputs": [],
   "source": [],
   "metadata": {
    "collapsed": false
   },
   "id": "459b31d825305a9a"
  }
 ],
 "metadata": {},
 "nbformat": 4,
 "nbformat_minor": 5
}
